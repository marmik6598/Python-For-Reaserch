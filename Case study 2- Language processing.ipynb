{
 "cells": [
  {
   "cell_type": "markdown",
   "metadata": {},
   "source": [
    "# 3.2  Case Study 2: Language processing\n"
   ]
  },
  {
   "cell_type": "markdown",
   "metadata": {},
   "source": [
    "## Project Gutenberg:-\n",
    "### 1. Learn about Project Gutenberg, the oldest digital library of books\n",
    "### 2. Get an overview of the language processing tasks we will accomplish in this case study\n",
    "Note that because of file size limits, we had to split the Books dataset into two parts, one containing the books in English and French, and the other containing the books in German and Portuguese."
   ]
  },
  {
   "cell_type": "markdown",
   "metadata": {},
   "source": [
    "- Learn how to write your own function to count the number of times a unique word appears in a given string text. Learn about how to use the Counter tool from the collections module to accomplish the same task\n"
   ]
  },
  {
   "cell_type": "code",
   "execution_count": 1,
   "metadata": {},
   "outputs": [],
   "source": [
    "from collections import Counter\n",
    "import os\n",
    "import pandas as pd\n",
    "import matplotlib.pyplot as plt"
   ]
  },
  {
   "cell_type": "code",
   "execution_count": 2,
   "metadata": {},
   "outputs": [],
   "source": [
    "text = \"This is test text. We're keeping this text short to keep things manageble.\"\n",
    "\n",
    "def count_words(text):\n",
    "    \"\"\"\n",
    "    Count the number of times each word occurs in text (str). Return dictionary where keys are unique word and values are word count.\n",
    "    \"\"\"\n",
    "    \n",
    "    word_counts = {}\n",
    "    for word in text.split(\" \"):\n",
    "        # known word\n",
    "        if word in word_counts:\n",
    "            word_counts[word] += 1\n",
    "        # unknown word\n",
    "        else:\n",
    "            word_counts[word] = 1\n",
    "    return word_counts"
   ]
  },
  {
   "cell_type": "code",
   "execution_count": 3,
   "metadata": {},
   "outputs": [
    {
     "data": {
      "text/plain": [
       "{'This': 1,\n",
       " 'is': 1,\n",
       " 'test': 1,\n",
       " 'text.': 1,\n",
       " \"We're\": 1,\n",
       " 'keeping': 1,\n",
       " 'this': 1,\n",
       " 'text': 1,\n",
       " 'short': 1,\n",
       " 'to': 1,\n",
       " 'keep': 1,\n",
       " 'things': 1,\n",
       " 'manageble.': 1}"
      ]
     },
     "execution_count": 3,
     "metadata": {},
     "output_type": "execute_result"
    }
   ],
   "source": [
    "count_words(text)"
   ]
  },
  {
   "cell_type": "code",
   "execution_count": 4,
   "metadata": {},
   "outputs": [],
   "source": [
    "def count_words(text):\n",
    "    \"\"\"\n",
    "    Count the number of times each word occurs in text (str). Return dictionary where keys are unique word and values are word count. Skip the panctuation\n",
    "    \"\"\"\n",
    "    text = text.lower()\n",
    "    skips = [\".\", \",\", \";\", \":\", \"'\", '\"']\n",
    "    for ch in skips:\n",
    "        text = text.replace(ch, \"\")\n",
    "        \n",
    "    word_counts = {}\n",
    "    for word in text.split(\" \"):\n",
    "        # known word\n",
    "        if word in word_counts:\n",
    "            word_counts[word] += 1\n",
    "        # unknown word\n",
    "        else:\n",
    "            word_counts[word] = 1\n",
    "    return word_counts"
   ]
  },
  {
   "cell_type": "code",
   "execution_count": 5,
   "metadata": {},
   "outputs": [
    {
     "data": {
      "text/plain": [
       "{'this': 2,\n",
       " 'is': 1,\n",
       " 'test': 1,\n",
       " 'text': 2,\n",
       " 'were': 1,\n",
       " 'keeping': 1,\n",
       " 'short': 1,\n",
       " 'to': 1,\n",
       " 'keep': 1,\n",
       " 'things': 1,\n",
       " 'manageble': 1}"
      ]
     },
     "execution_count": 5,
     "metadata": {},
     "output_type": "execute_result"
    }
   ],
   "source": [
    "count_words(text)"
   ]
  },
  {
   "cell_type": "code",
   "execution_count": 6,
   "metadata": {},
   "outputs": [],
   "source": [
    "from collections import Counter"
   ]
  },
  {
   "cell_type": "code",
   "execution_count": 7,
   "metadata": {},
   "outputs": [],
   "source": [
    "def count_words_fast(text):\n",
    "    \"\"\"\n",
    "    Count the number of times each word occurs in text (str). Return dictionary where keys are unique word and values are word count. Skip the panctuation\n",
    "    \"\"\"\n",
    "    text = text.lower()\n",
    "    skips = [\".\", \",\", \";\", \":\", \"'\", '\"']\n",
    "    for ch in skips:\n",
    "        text = text.replace(ch, \"\")\n",
    "        \n",
    "    word_counts = Counter(text.split(\" \"))    \n",
    "    return word_counts"
   ]
  },
  {
   "cell_type": "code",
   "execution_count": 8,
   "metadata": {},
   "outputs": [
    {
     "data": {
      "text/plain": [
       "Counter({'this': 2,\n",
       "         'is': 1,\n",
       "         'test': 1,\n",
       "         'text': 2,\n",
       "         'were': 1,\n",
       "         'keeping': 1,\n",
       "         'short': 1,\n",
       "         'to': 1,\n",
       "         'keep': 1,\n",
       "         'things': 1,\n",
       "         'manageble': 1})"
      ]
     },
     "execution_count": 8,
     "metadata": {},
     "output_type": "execute_result"
    }
   ],
   "source": [
    "count_words_fast(text)"
   ]
  },
  {
   "cell_type": "code",
   "execution_count": 9,
   "metadata": {},
   "outputs": [
    {
     "data": {
      "text/plain": [
       "True"
      ]
     },
     "execution_count": 9,
     "metadata": {},
     "output_type": "execute_result"
    }
   ],
   "source": [
    "count_words_fast(text) == count_words(text)"
   ]
  },
  {
   "cell_type": "code",
   "execution_count": 10,
   "metadata": {},
   "outputs": [
    {
     "data": {
      "text/plain": [
       "6"
      ]
     },
     "execution_count": 10,
     "metadata": {},
     "output_type": "execute_result"
    }
   ],
   "source": [
    "len(count_words(\"This comprehension check is to check for comprehension.\"))"
   ]
  },
  {
   "cell_type": "code",
   "execution_count": 11,
   "metadata": {},
   "outputs": [],
   "source": [
    "def read_book(title_path):\n",
    "        \"\"\"Read a book and return it as a string\"\"\"\n",
    "        \n",
    "        with open(title_path, \"r\", encoding = \"utf8\") as current_file:\n",
    "            text = current_file.read()\n",
    "            text = text.replace(\"\\n\", \"\").replace(\"\\r\", \"\")\n",
    "        return text"
   ]
  },
  {
   "cell_type": "code",
   "execution_count": 12,
   "metadata": {},
   "outputs": [
    {
     "data": {
      "text/plain": [
       "169275"
      ]
     },
     "execution_count": 12,
     "metadata": {},
     "output_type": "execute_result"
    }
   ],
   "source": [
    "text = read_book(\"C:/Users/Eva/Books case study 2/English/shakespeare/Romeo and Juliet.txt\")\n",
    "\n",
    "len(text)"
   ]
  },
  {
   "cell_type": "code",
   "execution_count": 13,
   "metadata": {},
   "outputs": [
    {
     "data": {
      "text/plain": [
       "42757"
      ]
     },
     "execution_count": 13,
     "metadata": {},
     "output_type": "execute_result"
    }
   ],
   "source": [
    "ind = text.find(\"What's in a name?\")\n",
    "\n",
    "ind"
   ]
  },
  {
   "cell_type": "code",
   "execution_count": 14,
   "metadata": {},
   "outputs": [
    {
     "data": {
      "text/plain": [
       "\"What's in a name? That which we call a rose    By any other name would smell as sweet.    So Romeo would, were he not Romeo call'd,    Retain that dear perfection which he owes    Without that title. Romeo, doff thy name;    And for that name, which is no part of thee,    Take all myself.  Rom. I take thee at thy word.    Call me but love, and I'll be new baptiz'd;    Henceforth I never will be Romeo.  Jul. What man art thou that, thus bescreen'd in night,    So stumblest on my counsel?  Rom. By a name    I know not how to tell thee who I am.    My name, dear saint, is hateful to myself,    Because it is an enemy to thee.    Had I it written, I would tear the word.  Jul. My ears have yet not drunk a hundred words    Of that tongue's utterance, yet I know the sound.    Art thou not Romeo, and a Montague?  Rom. Neither, fair saint, if either thee dislike.  Jul. How cam'st thou hither, tell me, and wherefore?    The orchard walls are high and hard to climb,    And the place death, conside\""
      ]
     },
     "execution_count": 14,
     "metadata": {},
     "output_type": "execute_result"
    }
   ],
   "source": [
    "sample_text = text[ind : ind+1000]\n",
    "sample_text"
   ]
  },
  {
   "cell_type": "markdown",
   "metadata": {},
   "source": [
    "### Computing word frequency statistics"
   ]
  },
  {
   "cell_type": "code",
   "execution_count": 15,
   "metadata": {},
   "outputs": [
    {
     "name": "stdout",
     "output_type": "stream",
     "text": [
      "5118 40776\n"
     ]
    }
   ],
   "source": [
    "def word_stats(word_counts):\n",
    "    \"\"\"Return number of unique words and word frequencies\"\"\"\n",
    "    num_unique = len(word_counts)\n",
    "    counts = word_counts.values()\n",
    "    return (num_unique, counts)\n",
    "\n",
    "text = read_book(\"C:/Users/Eva/Books case study 2/English/shakespeare/Romeo and Juliet.txt\")\n",
    "word_counts = count_words(text)\n",
    "\n",
    "(num_unique, counts) = word_stats(word_counts)\n",
    "print(num_unique, sum(counts))"
   ]
  },
  {
   "cell_type": "code",
   "execution_count": 16,
   "metadata": {},
   "outputs": [
    {
     "data": {
      "text/plain": [
       "5118"
      ]
     },
     "execution_count": 16,
     "metadata": {},
     "output_type": "execute_result"
    }
   ],
   "source": [
    "num_unique"
   ]
  },
  {
   "cell_type": "code",
   "execution_count": 17,
   "metadata": {},
   "outputs": [
    {
     "data": {
      "text/plain": [
       "40776"
      ]
     },
     "execution_count": 17,
     "metadata": {},
     "output_type": "execute_result"
    }
   ],
   "source": [
    "sum(counts)"
   ]
  },
  {
   "cell_type": "code",
   "execution_count": 18,
   "metadata": {},
   "outputs": [
    {
     "name": "stdout",
     "output_type": "stream",
     "text": [
      "7527 20311\n"
     ]
    }
   ],
   "source": [
    "text = read_book(\"C:/Users/Eva/Books case study 2/German/shakespeare/Romeo und Julia.txt\")\n",
    "word_counts = count_words(text)\n",
    "(num_unique, counts) = word_stats(word_counts)\n",
    "print(num_unique, sum(counts))"
   ]
  },
  {
   "cell_type": "markdown",
   "metadata": {},
   "source": [
    "## Reading Multiple Files"
   ]
  },
  {
   "cell_type": "code",
   "execution_count": 19,
   "metadata": {},
   "outputs": [
    {
     "data": {
      "text/plain": [
       "['English', 'French', 'German', 'Portuguese']"
      ]
     },
     "execution_count": 19,
     "metadata": {},
     "output_type": "execute_result"
    }
   ],
   "source": [
    "book_dir = \"C:/Users/Eva/Books case study 2\"\n",
    "os.listdir(book_dir)"
   ]
  },
  {
   "cell_type": "code",
   "execution_count": 30,
   "metadata": {},
   "outputs": [
    {
     "name": "stdout",
     "output_type": "stream",
     "text": [
      "C:/Users/Eva/Books case study 2/English/shakespeare/A Midsummer Night's Dream.txt\n",
      "C:/Users/Eva/Books case study 2/English/shakespeare/Hamlet.txt\n",
      "C:/Users/Eva/Books case study 2/English/shakespeare/Macbeth.txt\n",
      "C:/Users/Eva/Books case study 2/English/shakespeare/Othello.txt\n",
      "C:/Users/Eva/Books case study 2/English/shakespeare/Richard III.txt\n",
      "C:/Users/Eva/Books case study 2/English/shakespeare/Romeo and Juliet.txt\n",
      "C:/Users/Eva/Books case study 2/English/shakespeare/The Merchant of Venice.txt\n",
      "C:/Users/Eva/Books case study 2/French/chevalier/L'enfer et le paradis de l'autre monde.txt\n",
      "C:/Users/Eva/Books case study 2/French/chevalier/L'åle de sable.txt\n",
      "C:/Users/Eva/Books case study 2/French/chevalier/La capitaine.txt\n",
      "C:/Users/Eva/Books case study 2/French/chevalier/La fille des indiens rouges.txt\n",
      "C:/Users/Eva/Books case study 2/French/chevalier/La fille du pirate.txt\n",
      "C:/Users/Eva/Books case study 2/French/chevalier/Le chasseur noir.txt\n",
      "C:/Users/Eva/Books case study 2/French/chevalier/Les derniers Iroquois.txt\n",
      "C:/Users/Eva/Books case study 2/French/de Maupassant/Boule de Suif.txt\n",
      "C:/Users/Eva/Books case study 2/French/de Maupassant/Claire de Lune.txt\n",
      "C:/Users/Eva/Books case study 2/French/de Maupassant/Contes de la Becasse.txt\n",
      "C:/Users/Eva/Books case study 2/French/de Maupassant/L'inutile beautÇ.txt\n",
      "C:/Users/Eva/Books case study 2/French/de Maupassant/La Main Gauche.txt\n",
      "C:/Users/Eva/Books case study 2/French/de Maupassant/La Maison Tellier.txt\n",
      "C:/Users/Eva/Books case study 2/French/de Maupassant/La petite roque.txt\n",
      "C:/Users/Eva/Books case study 2/French/de Maupassant/Le Horla.txt\n",
      "C:/Users/Eva/Books case study 2/French/de Maupassant/Œuvres complètes de Guy de Maupassant.txt\n",
      "C:/Users/Eva/Books case study 2/French/diderot/Ceci n'est pas un conte.txt\n",
      "C:/Users/Eva/Books case study 2/French/diderot/Entretien d'un päre avec ses enfants.txt\n",
      "C:/Users/Eva/Books case study 2/French/diderot/L'oiseau blanc.txt\n",
      "C:/Users/Eva/Books case study 2/French/diderot/Les deux amis de Bourbonne.txt\n",
      "C:/Users/Eva/Books case study 2/French/diderot/Regrets sur ma vieille robe de chambre.txt\n",
      "C:/Users/Eva/Books case study 2/French/sand/cora.txt\n",
      "C:/Users/Eva/Books case study 2/French/sand/Jacques le fataliste et son maåtre.txt\n",
      "C:/Users/Eva/Books case study 2/French/sand/L' Orco.txt\n",
      "C:/Users/Eva/Books case study 2/French/sand/La Coupe; Lupo Liverani; Le Toast; Garnier; Le Contrebandier; La Ràverie Ö Paris.txt\n",
      "C:/Users/Eva/Books case study 2/French/sand/La Marquise.txt\n",
      "C:/Users/Eva/Books case study 2/French/sand/Le Piccinino.txt\n",
      "C:/Users/Eva/Books case study 2/French/sand/Le poâme de Myrza.txt\n",
      "C:/Users/Eva/Books case study 2/French/sand/Mattea.txt\n",
      "C:/Users/Eva/Books case study 2/French/sand/Metella.txt\n",
      "C:/Users/Eva/Books case study 2/French/sand/Oeuvres illustrÇes de George Sand.txt\n",
      "C:/Users/Eva/Books case study 2/French/sand/Pauline.txt\n",
      "C:/Users/Eva/Books case study 2/German/lessing/der freigeist.txt\n",
      "C:/Users/Eva/Books case study 2/German/lessing/der junge gelehrte.txt\n",
      "C:/Users/Eva/Books case study 2/German/lessing/die juden.txt\n",
      "C:/Users/Eva/Books case study 2/German/lessing/emilia galotti.txt\n",
      "C:/Users/Eva/Books case study 2/German/lessing/hamburgische dramaturgie.txt\n",
      "C:/Users/Eva/Books case study 2/German/lessing/minna von barnhelm.txt\n",
      "C:/Users/Eva/Books case study 2/German/lessing/miss sara sampson.txt\n",
      "C:/Users/Eva/Books case study 2/German/lessing/philotas.txt\n",
      "C:/Users/Eva/Books case study 2/German/raimund/Das MÑdchen aus der Feenwelt.txt\n",
      "C:/Users/Eva/Books case study 2/German/raimund/Der Alpenkînig und der Menschenfeind.txt\n",
      "C:/Users/Eva/Books case study 2/German/raimund/Der Barometermacher auf der Zauberinsel.txt\n",
      "C:/Users/Eva/Books case study 2/German/raimund/Der Diamant des Geisterkînigs.txt\n",
      "C:/Users/Eva/Books case study 2/German/raimund/Der Verschwender.txt\n",
      "C:/Users/Eva/Books case study 2/German/raimund/Die gefesselte Phantasie.txt\n",
      "C:/Users/Eva/Books case study 2/German/raimund/Die unheilbringende Krone.txt\n",
      "C:/Users/Eva/Books case study 2/German/raimund/Moisasurs Zauberfluch.txt\n",
      "C:/Users/Eva/Books case study 2/German/schiller/Der Neffe als Onkel.txt\n",
      "C:/Users/Eva/Books case study 2/German/schiller/Der Parasit, oder die Kunst, sein GlÅck zu machen.txt\n",
      "C:/Users/Eva/Books case study 2/German/schiller/die braut von messina.txt\n",
      "C:/Users/Eva/Books case study 2/German/schiller/Die Huldigung der KÅnste.txt\n",
      "C:/Users/Eva/Books case study 2/German/schiller/Die Jungfrau von Orleans.txt\n",
      "C:/Users/Eva/Books case study 2/German/schiller/Die Piccolomini.txt\n",
      "C:/Users/Eva/Books case study 2/German/schiller/Die Verschwîrung des Fiesco zu Genua.txt\n",
      "C:/Users/Eva/Books case study 2/German/schiller/Kabale und Liebe.txt\n",
      "C:/Users/Eva/Books case study 2/German/schiller/Turandot, Prinzessin von China.txt\n",
      "C:/Users/Eva/Books case study 2/German/schiller/Wallensteins Lager.txt\n",
      "C:/Users/Eva/Books case study 2/German/schiller/Wallensteins Tod.txt\n",
      "C:/Users/Eva/Books case study 2/German/shakespeare/Der Kaufmann von Venedig.txt\n",
      "C:/Users/Eva/Books case study 2/German/shakespeare/Ein Sommernachtstraum.txt\n",
      "C:/Users/Eva/Books case study 2/German/shakespeare/Hamlet.txt\n",
      "C:/Users/Eva/Books case study 2/German/shakespeare/Macbeth.txt\n",
      "C:/Users/Eva/Books case study 2/German/shakespeare/Othello.txt\n",
      "C:/Users/Eva/Books case study 2/German/shakespeare/Richard III.txt\n",
      "C:/Users/Eva/Books case study 2/German/shakespeare/Romeo und Julia.txt\n",
      "C:/Users/Eva/Books case study 2/Portuguese/branco/A Filha do Arcediago.txt\n",
      "C:/Users/Eva/Books case study 2/Portuguese/branco/A Neta do Arcediago.txt\n",
      "C:/Users/Eva/Books case study 2/Portuguese/branco/A Queda d'um Anjo.txt\n",
      "C:/Users/Eva/Books case study 2/Portuguese/branco/Agulha em Palheiro.txt\n",
      "C:/Users/Eva/Books case study 2/Portuguese/branco/Amor de Perdição.txt\n",
      "C:/Users/Eva/Books case study 2/Portuguese/branco/Amor de Salvação.txt\n",
      "C:/Users/Eva/Books case study 2/Portuguese/branco/Annos de Prosa.txt\n",
      "C:/Users/Eva/Books case study 2/Portuguese/branco/Carlota Angela.txt\n",
      "C:/Users/Eva/Books case study 2/Portuguese/branco/Estrellas Funestas.txt\n",
      "C:/Users/Eva/Books case study 2/Portuguese/branco/Estrellas Prop°cias.txt\n",
      "C:/Users/Eva/Books case study 2/Portuguese/branco/Lagrimas Abenáoadas.txt\n",
      "C:/Users/Eva/Books case study 2/Portuguese/branco/Livro de Consolação.txt\n",
      "C:/Users/Eva/Books case study 2/Portuguese/branco/O Olho de Vidro.txt\n",
      "C:/Users/Eva/Books case study 2/Portuguese/branco/O que fazem mulheres.txt\n",
      "C:/Users/Eva/Books case study 2/Portuguese/branco/O Regicida.txt\n",
      "C:/Users/Eva/Books case study 2/Portuguese/branco/Scenas Contemporaneas.txt\n",
      "C:/Users/Eva/Books case study 2/Portuguese/dinis/A Morgadinha dos Cannaviaes.txt\n",
      "C:/Users/Eva/Books case study 2/Portuguese/dinis/Os fidalgos da Casa Mourisca.txt\n",
      "C:/Users/Eva/Books case study 2/Portuguese/dinis/Uma fam°lia ingleza.txt\n",
      "C:/Users/Eva/Books case study 2/Portuguese/Queir¢s/A Cidade e as Serras.txt\n",
      "C:/Users/Eva/Books case study 2/Portuguese/Queir¢s/A correspondància de Fradique Mendes.txt\n",
      "C:/Users/Eva/Books case study 2/Portuguese/Queir¢s/A Illustre Casa de Ramires.txt\n",
      "C:/Users/Eva/Books case study 2/Portuguese/Queir¢s/A Rel°quia.txt\n",
      "C:/Users/Eva/Books case study 2/Portuguese/Queir¢s/Cartas de Inglaterra.txt\n",
      "C:/Users/Eva/Books case study 2/Portuguese/Queir¢s/O crime do padre Amaro.txt\n",
      "C:/Users/Eva/Books case study 2/Portuguese/Queir¢s/O Mandarim.txt\n",
      "C:/Users/Eva/Books case study 2/Portuguese/Queir¢s/O Primo Bazilio.txt\n",
      "C:/Users/Eva/Books case study 2/Portuguese/Queir¢s/Os Maias.txt\n",
      "C:/Users/Eva/Books case study 2/Portuguese/shakespeare/Hamlet.txt\n"
     ]
    }
   ],
   "source": [
    "for language in os.listdir(book_dir):\n",
    "    for author in os.listdir(book_dir + \"/\" + language):\n",
    "        for title in os.listdir(book_dir + \"/\" + language + \"/\" + author):\n",
    "            inputfile = book_dir + \"/\" + language + \"/\" + author + \"/\" + title\n",
    "            print(inputfile)\n",
    "            text = read_book(inputfile)\n",
    "            (num_unique, counts) = word_stats(count_words(text))"
   ]
  },
  {
   "cell_type": "code",
   "execution_count": 31,
   "metadata": {},
   "outputs": [
    {
     "name": "stdout",
     "output_type": "stream",
     "text": [
      "C:/Users/Eva/Books case study 2/English/shakespeare/A Midsummer Night's Dream.txt\n",
      "C:/Users/Eva/Books case study 2/English/shakespeare/Hamlet.txt\n",
      "C:/Users/Eva/Books case study 2/English/shakespeare/Macbeth.txt\n",
      "C:/Users/Eva/Books case study 2/English/shakespeare/Othello.txt\n",
      "C:/Users/Eva/Books case study 2/English/shakespeare/Richard III.txt\n",
      "C:/Users/Eva/Books case study 2/English/shakespeare/Romeo and Juliet.txt\n",
      "C:/Users/Eva/Books case study 2/English/shakespeare/The Merchant of Venice.txt\n",
      "C:/Users/Eva/Books case study 2/French/chevalier/L'enfer et le paradis de l'autre monde.txt\n",
      "C:/Users/Eva/Books case study 2/French/chevalier/L'åle de sable.txt\n",
      "C:/Users/Eva/Books case study 2/French/chevalier/La capitaine.txt\n",
      "C:/Users/Eva/Books case study 2/French/chevalier/La fille des indiens rouges.txt\n",
      "C:/Users/Eva/Books case study 2/French/chevalier/La fille du pirate.txt\n",
      "C:/Users/Eva/Books case study 2/French/chevalier/Le chasseur noir.txt\n",
      "C:/Users/Eva/Books case study 2/French/chevalier/Les derniers Iroquois.txt\n",
      "C:/Users/Eva/Books case study 2/French/de Maupassant/Boule de Suif.txt\n",
      "C:/Users/Eva/Books case study 2/French/de Maupassant/Claire de Lune.txt\n",
      "C:/Users/Eva/Books case study 2/French/de Maupassant/Contes de la Becasse.txt\n",
      "C:/Users/Eva/Books case study 2/French/de Maupassant/L'inutile beautÇ.txt\n",
      "C:/Users/Eva/Books case study 2/French/de Maupassant/La Main Gauche.txt\n",
      "C:/Users/Eva/Books case study 2/French/de Maupassant/La Maison Tellier.txt\n",
      "C:/Users/Eva/Books case study 2/French/de Maupassant/La petite roque.txt\n",
      "C:/Users/Eva/Books case study 2/French/de Maupassant/Le Horla.txt\n",
      "C:/Users/Eva/Books case study 2/French/de Maupassant/Œuvres complètes de Guy de Maupassant.txt\n",
      "C:/Users/Eva/Books case study 2/French/diderot/Ceci n'est pas un conte.txt\n",
      "C:/Users/Eva/Books case study 2/French/diderot/Entretien d'un päre avec ses enfants.txt\n",
      "C:/Users/Eva/Books case study 2/French/diderot/L'oiseau blanc.txt\n",
      "C:/Users/Eva/Books case study 2/French/diderot/Les deux amis de Bourbonne.txt\n",
      "C:/Users/Eva/Books case study 2/French/diderot/Regrets sur ma vieille robe de chambre.txt\n",
      "C:/Users/Eva/Books case study 2/French/sand/cora.txt\n",
      "C:/Users/Eva/Books case study 2/French/sand/Jacques le fataliste et son maåtre.txt\n",
      "C:/Users/Eva/Books case study 2/French/sand/L' Orco.txt\n",
      "C:/Users/Eva/Books case study 2/French/sand/La Coupe; Lupo Liverani; Le Toast; Garnier; Le Contrebandier; La Ràverie Ö Paris.txt\n",
      "C:/Users/Eva/Books case study 2/French/sand/La Marquise.txt\n",
      "C:/Users/Eva/Books case study 2/French/sand/Le Piccinino.txt\n",
      "C:/Users/Eva/Books case study 2/French/sand/Le poâme de Myrza.txt\n",
      "C:/Users/Eva/Books case study 2/French/sand/Mattea.txt\n",
      "C:/Users/Eva/Books case study 2/French/sand/Metella.txt\n",
      "C:/Users/Eva/Books case study 2/French/sand/Oeuvres illustrÇes de George Sand.txt\n",
      "C:/Users/Eva/Books case study 2/French/sand/Pauline.txt\n",
      "C:/Users/Eva/Books case study 2/German/lessing/der freigeist.txt\n",
      "C:/Users/Eva/Books case study 2/German/lessing/der junge gelehrte.txt\n",
      "C:/Users/Eva/Books case study 2/German/lessing/die juden.txt\n",
      "C:/Users/Eva/Books case study 2/German/lessing/emilia galotti.txt\n",
      "C:/Users/Eva/Books case study 2/German/lessing/hamburgische dramaturgie.txt\n",
      "C:/Users/Eva/Books case study 2/German/lessing/minna von barnhelm.txt\n",
      "C:/Users/Eva/Books case study 2/German/lessing/miss sara sampson.txt\n",
      "C:/Users/Eva/Books case study 2/German/lessing/philotas.txt\n",
      "C:/Users/Eva/Books case study 2/German/raimund/Das MÑdchen aus der Feenwelt.txt\n",
      "C:/Users/Eva/Books case study 2/German/raimund/Der Alpenkînig und der Menschenfeind.txt\n",
      "C:/Users/Eva/Books case study 2/German/raimund/Der Barometermacher auf der Zauberinsel.txt\n",
      "C:/Users/Eva/Books case study 2/German/raimund/Der Diamant des Geisterkînigs.txt\n",
      "C:/Users/Eva/Books case study 2/German/raimund/Der Verschwender.txt\n",
      "C:/Users/Eva/Books case study 2/German/raimund/Die gefesselte Phantasie.txt\n",
      "C:/Users/Eva/Books case study 2/German/raimund/Die unheilbringende Krone.txt\n",
      "C:/Users/Eva/Books case study 2/German/raimund/Moisasurs Zauberfluch.txt\n",
      "C:/Users/Eva/Books case study 2/German/schiller/Der Neffe als Onkel.txt\n",
      "C:/Users/Eva/Books case study 2/German/schiller/Der Parasit, oder die Kunst, sein GlÅck zu machen.txt\n",
      "C:/Users/Eva/Books case study 2/German/schiller/die braut von messina.txt\n",
      "C:/Users/Eva/Books case study 2/German/schiller/Die Huldigung der KÅnste.txt\n",
      "C:/Users/Eva/Books case study 2/German/schiller/Die Jungfrau von Orleans.txt\n",
      "C:/Users/Eva/Books case study 2/German/schiller/Die Piccolomini.txt\n",
      "C:/Users/Eva/Books case study 2/German/schiller/Die Verschwîrung des Fiesco zu Genua.txt\n",
      "C:/Users/Eva/Books case study 2/German/schiller/Kabale und Liebe.txt\n",
      "C:/Users/Eva/Books case study 2/German/schiller/Turandot, Prinzessin von China.txt\n",
      "C:/Users/Eva/Books case study 2/German/schiller/Wallensteins Lager.txt\n",
      "C:/Users/Eva/Books case study 2/German/schiller/Wallensteins Tod.txt\n",
      "C:/Users/Eva/Books case study 2/German/shakespeare/Der Kaufmann von Venedig.txt\n",
      "C:/Users/Eva/Books case study 2/German/shakespeare/Ein Sommernachtstraum.txt\n",
      "C:/Users/Eva/Books case study 2/German/shakespeare/Hamlet.txt\n",
      "C:/Users/Eva/Books case study 2/German/shakespeare/Macbeth.txt\n",
      "C:/Users/Eva/Books case study 2/German/shakespeare/Othello.txt\n",
      "C:/Users/Eva/Books case study 2/German/shakespeare/Richard III.txt\n",
      "C:/Users/Eva/Books case study 2/German/shakespeare/Romeo und Julia.txt\n",
      "C:/Users/Eva/Books case study 2/Portuguese/branco/A Filha do Arcediago.txt\n",
      "C:/Users/Eva/Books case study 2/Portuguese/branco/A Neta do Arcediago.txt\n",
      "C:/Users/Eva/Books case study 2/Portuguese/branco/A Queda d'um Anjo.txt\n",
      "C:/Users/Eva/Books case study 2/Portuguese/branco/Agulha em Palheiro.txt\n",
      "C:/Users/Eva/Books case study 2/Portuguese/branco/Amor de Perdição.txt\n",
      "C:/Users/Eva/Books case study 2/Portuguese/branco/Amor de Salvação.txt\n",
      "C:/Users/Eva/Books case study 2/Portuguese/branco/Annos de Prosa.txt\n",
      "C:/Users/Eva/Books case study 2/Portuguese/branco/Carlota Angela.txt\n",
      "C:/Users/Eva/Books case study 2/Portuguese/branco/Estrellas Funestas.txt\n",
      "C:/Users/Eva/Books case study 2/Portuguese/branco/Estrellas Prop°cias.txt\n",
      "C:/Users/Eva/Books case study 2/Portuguese/branco/Lagrimas Abenáoadas.txt\n",
      "C:/Users/Eva/Books case study 2/Portuguese/branco/Livro de Consolação.txt\n",
      "C:/Users/Eva/Books case study 2/Portuguese/branco/O Olho de Vidro.txt\n",
      "C:/Users/Eva/Books case study 2/Portuguese/branco/O que fazem mulheres.txt\n",
      "C:/Users/Eva/Books case study 2/Portuguese/branco/O Regicida.txt\n",
      "C:/Users/Eva/Books case study 2/Portuguese/branco/Scenas Contemporaneas.txt\n",
      "C:/Users/Eva/Books case study 2/Portuguese/dinis/A Morgadinha dos Cannaviaes.txt\n",
      "C:/Users/Eva/Books case study 2/Portuguese/dinis/Os fidalgos da Casa Mourisca.txt\n",
      "C:/Users/Eva/Books case study 2/Portuguese/dinis/Uma fam°lia ingleza.txt\n",
      "C:/Users/Eva/Books case study 2/Portuguese/Queir¢s/A Cidade e as Serras.txt\n",
      "C:/Users/Eva/Books case study 2/Portuguese/Queir¢s/A correspondància de Fradique Mendes.txt\n",
      "C:/Users/Eva/Books case study 2/Portuguese/Queir¢s/A Illustre Casa de Ramires.txt\n",
      "C:/Users/Eva/Books case study 2/Portuguese/Queir¢s/A Rel°quia.txt\n",
      "C:/Users/Eva/Books case study 2/Portuguese/Queir¢s/Cartas de Inglaterra.txt\n",
      "C:/Users/Eva/Books case study 2/Portuguese/Queir¢s/O crime do padre Amaro.txt\n",
      "C:/Users/Eva/Books case study 2/Portuguese/Queir¢s/O Mandarim.txt\n",
      "C:/Users/Eva/Books case study 2/Portuguese/Queir¢s/O Primo Bazilio.txt\n",
      "C:/Users/Eva/Books case study 2/Portuguese/Queir¢s/Os Maias.txt\n",
      "C:/Users/Eva/Books case study 2/Portuguese/shakespeare/Hamlet.txt\n"
     ]
    }
   ],
   "source": [
    "stats = pd.DataFrame(columns = (\"Language\" , \"Author\", \"Title\", \"Length\", \"Unique\"))\n",
    "title_num = 1\n",
    "for language in os.listdir(book_dir):\n",
    "    for author in os.listdir(book_dir + \"/\" + language):\n",
    "        for title in os.listdir(book_dir + \"/\" + language + \"/\" + author):\n",
    "            inputfile = book_dir + \"/\" + language + \"/\" + author + \"/\" + title\n",
    "            print(inputfile)\n",
    "            text = read_book(inputfile)\n",
    "            (num_unique, counts) = word_stats(count_words(text))\n",
    "            stats.loc[title_num] = language, author.capitalize(), title.replace(\".txt\",\"\"), sum(counts), num_unique\n",
    "            title_num += 1\n",
    "            "
   ]
  },
  {
   "cell_type": "code",
   "execution_count": 32,
   "metadata": {},
   "outputs": [
    {
     "data": {
      "text/html": [
       "<div>\n",
       "<style scoped>\n",
       "    .dataframe tbody tr th:only-of-type {\n",
       "        vertical-align: middle;\n",
       "    }\n",
       "\n",
       "    .dataframe tbody tr th {\n",
       "        vertical-align: top;\n",
       "    }\n",
       "\n",
       "    .dataframe thead th {\n",
       "        text-align: right;\n",
       "    }\n",
       "</style>\n",
       "<table border=\"1\" class=\"dataframe\">\n",
       "  <thead>\n",
       "    <tr style=\"text-align: right;\">\n",
       "      <th></th>\n",
       "      <th>Language</th>\n",
       "      <th>Author</th>\n",
       "      <th>Title</th>\n",
       "      <th>Length</th>\n",
       "      <th>Unique</th>\n",
       "    </tr>\n",
       "  </thead>\n",
       "  <tbody>\n",
       "    <tr>\n",
       "      <th>1</th>\n",
       "      <td>English</td>\n",
       "      <td>Shakespeare</td>\n",
       "      <td>A Midsummer Night's Dream</td>\n",
       "      <td>16103</td>\n",
       "      <td>4345</td>\n",
       "    </tr>\n",
       "    <tr>\n",
       "      <th>2</th>\n",
       "      <td>English</td>\n",
       "      <td>Shakespeare</td>\n",
       "      <td>Hamlet</td>\n",
       "      <td>28551</td>\n",
       "      <td>6776</td>\n",
       "    </tr>\n",
       "    <tr>\n",
       "      <th>3</th>\n",
       "      <td>English</td>\n",
       "      <td>Shakespeare</td>\n",
       "      <td>Macbeth</td>\n",
       "      <td>16874</td>\n",
       "      <td>4780</td>\n",
       "    </tr>\n",
       "    <tr>\n",
       "      <th>4</th>\n",
       "      <td>English</td>\n",
       "      <td>Shakespeare</td>\n",
       "      <td>Othello</td>\n",
       "      <td>26590</td>\n",
       "      <td>5898</td>\n",
       "    </tr>\n",
       "    <tr>\n",
       "      <th>5</th>\n",
       "      <td>English</td>\n",
       "      <td>Shakespeare</td>\n",
       "      <td>Richard III</td>\n",
       "      <td>48315</td>\n",
       "      <td>5449</td>\n",
       "    </tr>\n",
       "    <tr>\n",
       "      <th>...</th>\n",
       "      <td>...</td>\n",
       "      <td>...</td>\n",
       "      <td>...</td>\n",
       "      <td>...</td>\n",
       "      <td>...</td>\n",
       "    </tr>\n",
       "    <tr>\n",
       "      <th>98</th>\n",
       "      <td>Portuguese</td>\n",
       "      <td>Queir¢s</td>\n",
       "      <td>O crime do padre Amaro</td>\n",
       "      <td>128630</td>\n",
       "      <td>29300</td>\n",
       "    </tr>\n",
       "    <tr>\n",
       "      <th>99</th>\n",
       "      <td>Portuguese</td>\n",
       "      <td>Queir¢s</td>\n",
       "      <td>O Mandarim</td>\n",
       "      <td>21440</td>\n",
       "      <td>7836</td>\n",
       "    </tr>\n",
       "    <tr>\n",
       "      <th>100</th>\n",
       "      <td>Portuguese</td>\n",
       "      <td>Queir¢s</td>\n",
       "      <td>O Primo Bazilio</td>\n",
       "      <td>107303</td>\n",
       "      <td>27644</td>\n",
       "    </tr>\n",
       "    <tr>\n",
       "      <th>101</th>\n",
       "      <td>Portuguese</td>\n",
       "      <td>Queir¢s</td>\n",
       "      <td>Os Maias</td>\n",
       "      <td>195771</td>\n",
       "      <td>40665</td>\n",
       "    </tr>\n",
       "    <tr>\n",
       "      <th>102</th>\n",
       "      <td>Portuguese</td>\n",
       "      <td>Shakespeare</td>\n",
       "      <td>Hamlet</td>\n",
       "      <td>30567</td>\n",
       "      <td>9700</td>\n",
       "    </tr>\n",
       "  </tbody>\n",
       "</table>\n",
       "<p>102 rows × 5 columns</p>\n",
       "</div>"
      ],
      "text/plain": [
       "       Language       Author                      Title  Length Unique\n",
       "1       English  Shakespeare  A Midsummer Night's Dream   16103   4345\n",
       "2       English  Shakespeare                     Hamlet   28551   6776\n",
       "3       English  Shakespeare                    Macbeth   16874   4780\n",
       "4       English  Shakespeare                    Othello   26590   5898\n",
       "5       English  Shakespeare                Richard III   48315   5449\n",
       "..          ...          ...                        ...     ...    ...\n",
       "98   Portuguese      Queir¢s     O crime do padre Amaro  128630  29300\n",
       "99   Portuguese      Queir¢s                 O Mandarim   21440   7836\n",
       "100  Portuguese      Queir¢s            O Primo Bazilio  107303  27644\n",
       "101  Portuguese      Queir¢s                   Os Maias  195771  40665\n",
       "102  Portuguese  Shakespeare                     Hamlet   30567   9700\n",
       "\n",
       "[102 rows x 5 columns]"
      ]
     },
     "execution_count": 32,
     "metadata": {},
     "output_type": "execute_result"
    }
   ],
   "source": [
    "stats"
   ]
  },
  {
   "cell_type": "code",
   "execution_count": 33,
   "metadata": {},
   "outputs": [
    {
     "data": {
      "text/plain": [
       "1       16103\n",
       "2       28551\n",
       "3       16874\n",
       "4       26590\n",
       "5       48315\n",
       "        ...  \n",
       "98     128630\n",
       "99      21440\n",
       "100    107303\n",
       "101    195771\n",
       "102     30567\n",
       "Name: Length, Length: 102, dtype: object"
      ]
     },
     "execution_count": 33,
     "metadata": {},
     "output_type": "execute_result"
    }
   ],
   "source": [
    "stats.Length"
   ]
  },
  {
   "cell_type": "code",
   "execution_count": 34,
   "metadata": {},
   "outputs": [
    {
     "data": {
      "text/plain": [
       "1       4345\n",
       "2       6776\n",
       "3       4780\n",
       "4       5898\n",
       "5       5449\n",
       "       ...  \n",
       "98     29300\n",
       "99      7836\n",
       "100    27644\n",
       "101    40665\n",
       "102     9700\n",
       "Name: Unique, Length: 102, dtype: object"
      ]
     },
     "execution_count": 34,
     "metadata": {},
     "output_type": "execute_result"
    }
   ],
   "source": [
    "stats.Unique"
   ]
  },
  {
   "cell_type": "code",
   "execution_count": 35,
   "metadata": {},
   "outputs": [
    {
     "data": {
      "image/png": "[encoded data removed]",
      "text/plain": [
       "<Figure size 432x288 with 1 Axes>"
      ]
     },
     "metadata": {
      "needs_background": "light"
     },
     "output_type": "display_data"
    }
   ],
   "source": [
    "plt.plot(stats.Length, stats.Unique, \"bo\");"
   ]
  },
  {
   "cell_type": "code",
   "execution_count": 36,
   "metadata": {},
   "outputs": [
    {
     "data": {
      "image/png": "[encoded data removed]",
      "text/plain": [
       "<Figure size 432x288 with 1 Axes>"
      ]
     },
     "metadata": {
      "needs_background": "light"
     },
     "output_type": "display_data"
    }
   ],
   "source": [
    "plt.loglog(stats.Length, stats.Unique, \"bo\");"
   ]
  },
  {
   "cell_type": "code",
   "execution_count": 37,
   "metadata": {},
   "outputs": [
    {
     "data": {
      "image/png": "[encoded data removed]",
      "text/plain": [
       "<Figure size 720x720 with 1 Axes>"
      ]
     },
     "metadata": {
      "needs_background": "light"
     },
     "output_type": "display_data"
    }
   ],
   "source": [
    "plt.figure(figsize = (10, 10))\n",
    "subset = stats[stats.Language == \"English\"]\n",
    "plt.loglog(subset.Length, subset.Unique, \"o\", label = \"English\", color = \"crimson\")\n",
    "\n",
    "subset = stats[stats.Language == \"French\"]\n",
    "plt.loglog(subset.Length, subset.Unique, \"o\", label = \"French\", color = \"forestgreen\")\n",
    "\n",
    "subset = stats[stats.Language == \"German\"]\n",
    "plt.loglog(subset.Length, subset.Unique, \"o\", label = \"German\", color = \"orange\")\n",
    "\n",
    "subset = stats[stats.Language == \"Portuguese\"]\n",
    "plt.loglog(subset.Length, subset.Unique, \"o\", label = \"Portuguese\", color = \"blue\")\n",
    "\n",
    "plt.legend\n",
    "plt.xlabel(\"Book Length\")\n",
    "plt.ylabel(\"Number of Unique words\")\n",
    "plt.savefig(\"lang_plot.pdf\")"
   ]
  },
  {
   "cell_type": "code",
   "execution_count": 38,
   "metadata": {},
   "outputs": [
    {
     "data": {
      "text/plain": [
       "1       16103\n",
       "2       28551\n",
       "3       16874\n",
       "4       26590\n",
       "5       48315\n",
       "        ...  \n",
       "98     128630\n",
       "99      21440\n",
       "100    107303\n",
       "101    195771\n",
       "102     30567\n",
       "Name: Length, Length: 102, dtype: object"
      ]
     },
     "execution_count": 38,
     "metadata": {},
     "output_type": "execute_result"
    }
   ],
   "source": [
    "stats[\"Length\"]"
   ]
  }
 ],
 "metadata": {
  "kernelspec": {
   "display_name": "Python 3",
   "language": "python",
   "name": "python3"
  },
  "language_info": {
   "codemirror_mode": {
    "name": "ipython",
    "version": 3
   },
   "file_extension": ".py",
   "mimetype": "text/x-python",
   "name": "python",
   "nbconvert_exporter": "python",
   "pygments_lexer": "ipython3",
   "version": "3.8.5"
  }
 },
 "nbformat": 4,
 "nbformat_minor": 4
}
